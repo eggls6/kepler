{
 "cells": [
  {
   "cell_type": "markdown",
   "metadata": {},
   "source": [
    "# A simple two body propagator for bound Keplerian orbits"
   ]
  },
  {
   "cell_type": "code",
   "execution_count": 1,
   "metadata": {
    "collapsed": true
   },
   "outputs": [],
   "source": [
    "import kepler\n",
    "import numpy as np"
   ]
  },
  {
   "cell_type": "markdown",
   "metadata": {},
   "source": [
    "### Define epoch of input state (JD), the time of observation (time to propagate to) and the masses of the objects (Msun)"
   ]
  },
  {
   "cell_type": "code",
   "execution_count": 2,
   "metadata": {
    "collapsed": true
   },
   "outputs": [],
   "source": [
    "#Target body name: 434 Hungaria (A898 RB)          {source: JPL#67}\n",
    "epoch=2455668.5   #JD\n",
    "t_obs=2455689.5   #JD\n",
    "mass1=1           #Msun\n",
    "mass2=0           #Msun"
   ]
  },
  {
   "cell_type": "markdown",
   "metadata": {},
   "source": [
    "# Start from heliocentric Cartesian input state "
   ]
  },
  {
   "cell_type": "code",
   "execution_count": 3,
   "metadata": {
    "collapsed": true
   },
   "outputs": [],
   "source": [
    "rv=np.array([-2.00288451e+00,  2.93817088e-01, -5.44656549e-02, -9.91033397e-04,\n",
    "       -1.08881597e-02,  4.53077974e-03]) #[x,y,z,vx,vy,vz] (au, au/day)"
   ]
  },
  {
   "cell_type": "markdown",
   "metadata": {},
   "source": [
    "### Propagate from epoch to t_obs"
   ]
  },
  {
   "cell_type": "code",
   "execution_count": 4,
   "metadata": {},
   "outputs": [
    {
     "name": "stdout",
     "output_type": "stream",
     "text": [
      "rv_out = two_body_rv(rv_in,epoch,t_obs,mass1,mass2)\n",
      "\n",
      "Wrapper for ``two_body_rv``.\n",
      "\n",
      "Parameters\n",
      "----------\n",
      "rv_in : input rank-1 array('d') with bounds (6)\n",
      "epoch : input float\n",
      "t_obs : input float\n",
      "mass1 : input float\n",
      "mass2 : input float\n",
      "\n",
      "Returns\n",
      "-------\n",
      "rv_out : rank-1 array('d') with bounds (6)\n",
      "\n"
     ]
    }
   ],
   "source": [
    "print(kepler.kepler_m.two_body_rv.__doc__)"
   ]
  },
  {
   "cell_type": "code",
   "execution_count": 5,
   "metadata": {
    "collapsed": true
   },
   "outputs": [],
   "source": [
    "rv2=kepler.kepler_m.two_body_rv(rv,t_obs,epoch,mass1,mass2)"
   ]
  },
  {
   "cell_type": "markdown",
   "metadata": {},
   "source": [
    "### Result"
   ]
  },
  {
   "cell_type": "code",
   "execution_count": 6,
   "metadata": {},
   "outputs": [
    {
     "data": {
      "text/plain": [
       "array([-1.96652412,  0.51958768, -0.14894143, -0.00246216, -0.010587  ,\n",
       "        0.00445552])"
      ]
     },
     "execution_count": 6,
     "metadata": {},
     "output_type": "execute_result"
    }
   ],
   "source": [
    "rv2 #[x,y,z,vx,vy,vz] (au, au/day)"
   ]
  },
  {
   "cell_type": "markdown",
   "metadata": {},
   "source": [
    "# Start from heliocentric Keplerian orbital elements "
   ]
  },
  {
   "cell_type": "code",
   "execution_count": 7,
   "metadata": {
    "collapsed": true
   },
   "outputs": [],
   "source": [
    "ke=np.array([1.944371546951209,.07369922825254498,22.51048102001419,\n",
    "             123.6597366228673,175.3768049807603,238.8604173008058]) #[a,e,i,w,Om,M] (au,-,4 x deg)"
   ]
  },
  {
   "cell_type": "code",
   "execution_count": 8,
   "metadata": {
    "collapsed": true
   },
   "outputs": [],
   "source": [
    "ke[2:6]=np.deg2rad(ke[2:6]) #change deg to rad"
   ]
  },
  {
   "cell_type": "markdown",
   "metadata": {},
   "source": [
    "### Propagate from epoch to t_obs"
   ]
  },
  {
   "cell_type": "code",
   "execution_count": 9,
   "metadata": {},
   "outputs": [
    {
     "name": "stdout",
     "output_type": "stream",
     "text": [
      "rv_out = two_body_rv(rv_in,epoch,t_obs,mass1,mass2)\n",
      "\n",
      "Wrapper for ``two_body_rv``.\n",
      "\n",
      "Parameters\n",
      "----------\n",
      "rv_in : input rank-1 array('d') with bounds (6)\n",
      "epoch : input float\n",
      "t_obs : input float\n",
      "mass1 : input float\n",
      "mass2 : input float\n",
      "\n",
      "Returns\n",
      "-------\n",
      "rv_out : rank-1 array('d') with bounds (6)\n",
      "\n"
     ]
    }
   ],
   "source": [
    "print(kepler.kepler_m.two_body_rv.__doc__)"
   ]
  },
  {
   "cell_type": "code",
   "execution_count": 10,
   "metadata": {
    "collapsed": true
   },
   "outputs": [],
   "source": [
    "rv=kepler.kepler_m.two_body_ke(ke,epoch,t_obs,mass1,mass2)"
   ]
  },
  {
   "cell_type": "markdown",
   "metadata": {},
   "source": [
    "### Result"
   ]
  },
  {
   "cell_type": "code",
   "execution_count": 11,
   "metadata": {},
   "outputs": [
    {
     "data": {
      "text/plain": [
       "array([-2.00829636e+00,  7.44697951e-02,  3.63229879e-02,  4.55894636e-04,\n",
       "       -1.10207138e-02,  4.53720206e-03])"
      ]
     },
     "execution_count": 11,
     "metadata": {},
     "output_type": "execute_result"
    }
   ],
   "source": [
    "rv  #[x,y,z,vx,vy,vz] (au, au/day)"
   ]
  },
  {
   "cell_type": "markdown",
   "metadata": {},
   "source": [
    "### Full Orbit"
   ]
  },
  {
   "cell_type": "code",
   "execution_count": 12,
   "metadata": {
    "collapsed": true
   },
   "outputs": [],
   "source": [
    "time=np.arange(epoch,epoch+1000,4)\n",
    "rv=[]\n",
    "for t in time:\n",
    "    rv.append(kepler.kepler_m.two_body_ke(ke,epoch,t,mass1,mass2))"
   ]
  },
  {
   "cell_type": "code",
   "execution_count": null,
   "metadata": {},
   "outputs": [],
   "source": [
    "import plotly.graph_objects as go\n",
    "import numpy as np\n",
    "\n",
    "xyz = np.array(rv)[:,0:3]\n",
    "\n",
    "fig = go.Figure(data=[go.Scatter3d(x=xyz[:,0], y=xyz[:,1], z=xyz[:,2],\n",
    "                                   mode='markers', marker=dict(size=5,\n",
    "        color=time,                # set color to an array/list of desired values\n",
    "        colorscale='Viridis',   # choose a colorscale\n",
    "        opacity=0.8))])\n",
    "fig.show()\n",
    "\n"
   ]
  },
  {
   "cell_type": "code",
   "execution_count": null,
   "metadata": {
    "collapsed": true
   },
   "outputs": [],
   "source": []
  }
 ],
 "metadata": {
  "kernelspec": {
   "display_name": "Python 3",
   "language": "python",
   "name": "python3"
  },
  "language_info": {
   "codemirror_mode": {
    "name": "ipython",
    "version": 3
   },
   "file_extension": ".py",
   "mimetype": "text/x-python",
   "name": "python",
   "nbconvert_exporter": "python",
   "pygments_lexer": "ipython3",
   "version": "3.6.7"
  }
 },
 "nbformat": 4,
 "nbformat_minor": 2
}
